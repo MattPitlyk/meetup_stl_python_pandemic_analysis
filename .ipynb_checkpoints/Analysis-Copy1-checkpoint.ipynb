{
 "cells": [
  {
   "cell_type": "code",
   "execution_count": 1,
   "metadata": {
    "collapsed": true
   },
   "outputs": [],
   "source": [
    "import json\n",
    "import pandas as pd\n",
    "import pandemic"
   ]
  },
  {
   "cell_type": "code",
   "execution_count": 2,
   "metadata": {
    "collapsed": false,
    "scrolled": false
   },
   "outputs": [
    {
     "name": "stdout",
     "output_type": "stream",
     "text": [
      "Microsoft Windows [Version 6.3.9600]\r\n",
      "(c) 2013 Microsoft Corporation. All rights reserved.\r\n",
      "\r\n",
      "C:\\Users\\mpitlyk\\Documents\\Pandemic\\Pandemic>dir\n",
      " Volume in drive C has no label.\r\n",
      " Volume Serial Number is 34DF-A9F2\r\n",
      "\r\n",
      " Directory of C:\\Users\\mpitlyk\\Documents\\Pandemic\\Pandemic\r\n",
      "\r\n",
      "08/15/2016  12:38 AM    <DIR>          .\r\n",
      "08/15/2016  12:38 AM    <DIR>          ..\r\n",
      "07/13/2016  11:41 PM    <DIR>          .ipynb_checkpoints\r\n",
      "07/13/2016  12:47 AM               962 1_nodes.json\r\n",
      "07/13/2016  12:47 AM            23,983 2_nodes.json\r\n",
      "07/13/2016  12:48 AM           337,921 3_nodes.json\r\n",
      "07/13/2016  12:55 AM         3,126,778 4_nodes.json\r\n",
      "07/13/2016  01:32 AM        19,221,263 5_nodes.json\r\n",
      "08/15/2016  12:38 AM            49,851 Analysis.ipynb\r\n",
      "08/14/2016  11:27 PM        20,283,411 compiled_simulation_results.csv\r\n",
      "07/12/2016  11:49 PM            55,854 output.txt\r\n",
      "07/13/2016  12:28 AM             4,275 Pandemic Analysis-Copy1.ipynb\r\n",
      "08/13/2016  12:19 AM            42,743 Pandemic Analysis.ipynb\r\n",
      "07/12/2016  11:49 PM            21,850 pandemic.graphml.txt\r\n",
      "07/13/2016  12:18 AM             7,919 pandemic.py\r\n",
      "07/13/2016  12:28 AM             1,842 pandemic.pyc\r\n",
      "              13 File(s)     43,178,652 bytes\r\n",
      "               3 Dir(s)  13,624,111,104 bytes free\r\n",
      "\r\n",
      "C:\\Users\\mpitlyk\\Documents\\Pandemic\\Pandemic>"
     ]
    }
   ],
   "source": [
    "%%cmd\n",
    "dir"
   ]
  },
  {
   "cell_type": "code",
   "execution_count": 3,
   "metadata": {
    "collapsed": false,
    "scrolled": true
   },
   "outputs": [],
   "source": [
    "# Loop through all the json results files, load them into dataframe, rename the columns, \n",
    "# and concat them all together.\n",
    "\n",
    "df = pd.concat([pd.read_json('{}_nodes.json'.format(i)).\n",
    "                rename(columns={0:'Diameter', 1:'Stations', 2:'Num_Edges'})\n",
    "                for i in xrange(1,6)],\n",
    "                ignore_index=True)"
   ]
  },
  {
   "cell_type": "code",
   "execution_count": 4,
   "metadata": {
    "collapsed": false
   },
   "outputs": [],
   "source": [
    "df['Num_Stations'] = df.Stations.map(lambda x: len(x))"
   ]
  },
  {
   "cell_type": "markdown",
   "metadata": {},
   "source": [
    "###### Absolute minimum diameter"
   ]
  },
  {
   "cell_type": "code",
   "execution_count": 5,
   "metadata": {
    "collapsed": false
   },
   "outputs": [
    {
     "data": {
      "text/plain": [
       "5"
      ]
     },
     "execution_count": 5,
     "metadata": {},
     "output_type": "execute_result"
    }
   ],
   "source": [
    "df.Diameter.min()"
   ]
  },
  {
   "cell_type": "code",
   "execution_count": 6,
   "metadata": {
    "collapsed": false,
    "scrolled": true
   },
   "outputs": [
    {
     "data": {
      "text/html": [
       "<div>\n",
       "<table border=\"1\" class=\"dataframe\">\n",
       "  <thead>\n",
       "    <tr style=\"text-align: right;\">\n",
       "      <th></th>\n",
       "      <th>Diameter</th>\n",
       "      <th>Stations</th>\n",
       "      <th>Num_Edges</th>\n",
       "      <th>Num_Stations</th>\n",
       "    </tr>\n",
       "  </thead>\n",
       "  <tbody>\n",
       "    <tr>\n",
       "      <th>152181</th>\n",
       "      <td>5</td>\n",
       "      <td>[6, 10, 16, 18, 29, 48]</td>\n",
       "      <td>108</td>\n",
       "      <td>6</td>\n",
       "    </tr>\n",
       "    <tr>\n",
       "      <th>152182</th>\n",
       "      <td>5</td>\n",
       "      <td>[6, 10, 16, 18, 29, 49]</td>\n",
       "      <td>108</td>\n",
       "      <td>6</td>\n",
       "    </tr>\n",
       "    <tr>\n",
       "      <th>152184</th>\n",
       "      <td>5</td>\n",
       "      <td>[6, 10, 16, 18, 29, 47]</td>\n",
       "      <td>108</td>\n",
       "      <td>6</td>\n",
       "    </tr>\n",
       "    <tr>\n",
       "      <th>152428</th>\n",
       "      <td>5</td>\n",
       "      <td>[6, 10, 16, 19, 28, 49]</td>\n",
       "      <td>108</td>\n",
       "      <td>6</td>\n",
       "    </tr>\n",
       "    <tr>\n",
       "      <th>152446</th>\n",
       "      <td>5</td>\n",
       "      <td>[6, 10, 16, 19, 29, 48]</td>\n",
       "      <td>108</td>\n",
       "      <td>6</td>\n",
       "    </tr>\n",
       "    <tr>\n",
       "      <th>152447</th>\n",
       "      <td>5</td>\n",
       "      <td>[6, 10, 16, 19, 29, 49]</td>\n",
       "      <td>108</td>\n",
       "      <td>6</td>\n",
       "    </tr>\n",
       "    <tr>\n",
       "      <th>152449</th>\n",
       "      <td>5</td>\n",
       "      <td>[6, 10, 16, 19, 29, 47]</td>\n",
       "      <td>108</td>\n",
       "      <td>6</td>\n",
       "    </tr>\n",
       "    <tr>\n",
       "      <th>152480</th>\n",
       "      <td>5</td>\n",
       "      <td>[6, 10, 16, 19, 30, 48]</td>\n",
       "      <td>108</td>\n",
       "      <td>6</td>\n",
       "    </tr>\n",
       "    <tr>\n",
       "      <th>152481</th>\n",
       "      <td>5</td>\n",
       "      <td>[6, 10, 16, 19, 30, 49]</td>\n",
       "      <td>108</td>\n",
       "      <td>6</td>\n",
       "    </tr>\n",
       "    <tr>\n",
       "      <th>152483</th>\n",
       "      <td>5</td>\n",
       "      <td>[6, 10, 16, 19, 30, 47]</td>\n",
       "      <td>108</td>\n",
       "      <td>6</td>\n",
       "    </tr>\n",
       "    <tr>\n",
       "      <th>152757</th>\n",
       "      <td>5</td>\n",
       "      <td>[6, 10, 16, 20, 29, 48]</td>\n",
       "      <td>108</td>\n",
       "      <td>6</td>\n",
       "    </tr>\n",
       "    <tr>\n",
       "      <th>152758</th>\n",
       "      <td>5</td>\n",
       "      <td>[6, 10, 16, 20, 29, 49]</td>\n",
       "      <td>108</td>\n",
       "      <td>6</td>\n",
       "    </tr>\n",
       "    <tr>\n",
       "      <th>152760</th>\n",
       "      <td>5</td>\n",
       "      <td>[6, 10, 16, 20, 29, 47]</td>\n",
       "      <td>108</td>\n",
       "      <td>6</td>\n",
       "    </tr>\n",
       "    <tr>\n",
       "      <th>153027</th>\n",
       "      <td>5</td>\n",
       "      <td>[6, 10, 16, 22, 28, 49]</td>\n",
       "      <td>108</td>\n",
       "      <td>6</td>\n",
       "    </tr>\n",
       "    <tr>\n",
       "      <th>153045</th>\n",
       "      <td>5</td>\n",
       "      <td>[6, 10, 16, 22, 29, 48]</td>\n",
       "      <td>108</td>\n",
       "      <td>6</td>\n",
       "    </tr>\n",
       "    <tr>\n",
       "      <th>153046</th>\n",
       "      <td>5</td>\n",
       "      <td>[6, 10, 16, 22, 29, 49]</td>\n",
       "      <td>108</td>\n",
       "      <td>6</td>\n",
       "    </tr>\n",
       "    <tr>\n",
       "      <th>153048</th>\n",
       "      <td>5</td>\n",
       "      <td>[6, 10, 16, 22, 29, 47]</td>\n",
       "      <td>108</td>\n",
       "      <td>6</td>\n",
       "    </tr>\n",
       "    <tr>\n",
       "      <th>153079</th>\n",
       "      <td>5</td>\n",
       "      <td>[6, 10, 16, 22, 30, 48]</td>\n",
       "      <td>108</td>\n",
       "      <td>6</td>\n",
       "    </tr>\n",
       "    <tr>\n",
       "      <th>153080</th>\n",
       "      <td>5</td>\n",
       "      <td>[6, 10, 16, 22, 30, 49]</td>\n",
       "      <td>108</td>\n",
       "      <td>6</td>\n",
       "    </tr>\n",
       "    <tr>\n",
       "      <th>153082</th>\n",
       "      <td>5</td>\n",
       "      <td>[6, 10, 16, 22, 30, 47]</td>\n",
       "      <td>108</td>\n",
       "      <td>6</td>\n",
       "    </tr>\n",
       "    <tr>\n",
       "      <th>153268</th>\n",
       "      <td>5</td>\n",
       "      <td>[6, 10, 16, 23, 27, 48]</td>\n",
       "      <td>108</td>\n",
       "      <td>6</td>\n",
       "    </tr>\n",
       "    <tr>\n",
       "      <th>153269</th>\n",
       "      <td>5</td>\n",
       "      <td>[6, 10, 16, 23, 27, 49]</td>\n",
       "      <td>108</td>\n",
       "      <td>6</td>\n",
       "    </tr>\n",
       "    <tr>\n",
       "      <th>153271</th>\n",
       "      <td>5</td>\n",
       "      <td>[6, 10, 16, 23, 27, 47]</td>\n",
       "      <td>108</td>\n",
       "      <td>6</td>\n",
       "    </tr>\n",
       "    <tr>\n",
       "      <th>153285</th>\n",
       "      <td>5</td>\n",
       "      <td>[6, 10, 16, 23, 28, 48]</td>\n",
       "      <td>108</td>\n",
       "      <td>6</td>\n",
       "    </tr>\n",
       "    <tr>\n",
       "      <th>153286</th>\n",
       "      <td>5</td>\n",
       "      <td>[6, 10, 16, 23, 28, 49]</td>\n",
       "      <td>108</td>\n",
       "      <td>6</td>\n",
       "    </tr>\n",
       "    <tr>\n",
       "      <th>153288</th>\n",
       "      <td>5</td>\n",
       "      <td>[6, 10, 16, 23, 28, 47]</td>\n",
       "      <td>108</td>\n",
       "      <td>6</td>\n",
       "    </tr>\n",
       "    <tr>\n",
       "      <th>153302</th>\n",
       "      <td>5</td>\n",
       "      <td>[6, 10, 16, 23, 29, 48]</td>\n",
       "      <td>108</td>\n",
       "      <td>6</td>\n",
       "    </tr>\n",
       "    <tr>\n",
       "      <th>153303</th>\n",
       "      <td>5</td>\n",
       "      <td>[6, 10, 16, 23, 29, 49]</td>\n",
       "      <td>108</td>\n",
       "      <td>6</td>\n",
       "    </tr>\n",
       "    <tr>\n",
       "      <th>153305</th>\n",
       "      <td>5</td>\n",
       "      <td>[6, 10, 16, 23, 29, 47]</td>\n",
       "      <td>108</td>\n",
       "      <td>6</td>\n",
       "    </tr>\n",
       "    <tr>\n",
       "      <th>153333</th>\n",
       "      <td>5</td>\n",
       "      <td>[6, 10, 16, 23, 30, 48]</td>\n",
       "      <td>108</td>\n",
       "      <td>6</td>\n",
       "    </tr>\n",
       "    <tr>\n",
       "      <th>...</th>\n",
       "      <td>...</td>\n",
       "      <td>...</td>\n",
       "      <td>...</td>\n",
       "      <td>...</td>\n",
       "    </tr>\n",
       "    <tr>\n",
       "      <th>432519</th>\n",
       "      <td>5</td>\n",
       "      <td>[6, 20, 29, 40, 48, 9]</td>\n",
       "      <td>108</td>\n",
       "      <td>6</td>\n",
       "    </tr>\n",
       "    <tr>\n",
       "      <th>432520</th>\n",
       "      <td>5</td>\n",
       "      <td>[6, 20, 29, 40, 48, 8]</td>\n",
       "      <td>108</td>\n",
       "      <td>6</td>\n",
       "    </tr>\n",
       "    <tr>\n",
       "      <th>432523</th>\n",
       "      <td>5</td>\n",
       "      <td>[6, 20, 29, 40, 49, 9]</td>\n",
       "      <td>108</td>\n",
       "      <td>6</td>\n",
       "    </tr>\n",
       "    <tr>\n",
       "      <th>432524</th>\n",
       "      <td>5</td>\n",
       "      <td>[6, 20, 29, 40, 49, 8]</td>\n",
       "      <td>108</td>\n",
       "      <td>6</td>\n",
       "    </tr>\n",
       "    <tr>\n",
       "      <th>432557</th>\n",
       "      <td>5</td>\n",
       "      <td>[6, 20, 29, 41, 47, 9]</td>\n",
       "      <td>108</td>\n",
       "      <td>6</td>\n",
       "    </tr>\n",
       "    <tr>\n",
       "      <th>432558</th>\n",
       "      <td>5</td>\n",
       "      <td>[6, 20, 29, 41, 47, 8]</td>\n",
       "      <td>108</td>\n",
       "      <td>6</td>\n",
       "    </tr>\n",
       "    <tr>\n",
       "      <th>432561</th>\n",
       "      <td>5</td>\n",
       "      <td>[6, 20, 29, 41, 48, 9]</td>\n",
       "      <td>108</td>\n",
       "      <td>6</td>\n",
       "    </tr>\n",
       "    <tr>\n",
       "      <th>432562</th>\n",
       "      <td>5</td>\n",
       "      <td>[6, 20, 29, 41, 48, 8]</td>\n",
       "      <td>108</td>\n",
       "      <td>6</td>\n",
       "    </tr>\n",
       "    <tr>\n",
       "      <th>432565</th>\n",
       "      <td>5</td>\n",
       "      <td>[6, 20, 29, 41, 49, 9]</td>\n",
       "      <td>108</td>\n",
       "      <td>6</td>\n",
       "    </tr>\n",
       "    <tr>\n",
       "      <th>432566</th>\n",
       "      <td>5</td>\n",
       "      <td>[6, 20, 29, 41, 49, 8]</td>\n",
       "      <td>108</td>\n",
       "      <td>6</td>\n",
       "    </tr>\n",
       "    <tr>\n",
       "      <th>432590</th>\n",
       "      <td>5</td>\n",
       "      <td>[6, 20, 29, 42, 47, 9]</td>\n",
       "      <td>108</td>\n",
       "      <td>6</td>\n",
       "    </tr>\n",
       "    <tr>\n",
       "      <th>432591</th>\n",
       "      <td>5</td>\n",
       "      <td>[6, 20, 29, 42, 47, 8]</td>\n",
       "      <td>108</td>\n",
       "      <td>6</td>\n",
       "    </tr>\n",
       "    <tr>\n",
       "      <th>432594</th>\n",
       "      <td>5</td>\n",
       "      <td>[6, 20, 29, 42, 48, 9]</td>\n",
       "      <td>108</td>\n",
       "      <td>6</td>\n",
       "    </tr>\n",
       "    <tr>\n",
       "      <th>432595</th>\n",
       "      <td>5</td>\n",
       "      <td>[6, 20, 29, 42, 48, 8]</td>\n",
       "      <td>108</td>\n",
       "      <td>6</td>\n",
       "    </tr>\n",
       "    <tr>\n",
       "      <th>432598</th>\n",
       "      <td>5</td>\n",
       "      <td>[6, 20, 29, 42, 49, 9]</td>\n",
       "      <td>108</td>\n",
       "      <td>6</td>\n",
       "    </tr>\n",
       "    <tr>\n",
       "      <th>432599</th>\n",
       "      <td>5</td>\n",
       "      <td>[6, 20, 29, 42, 49, 8]</td>\n",
       "      <td>108</td>\n",
       "      <td>6</td>\n",
       "    </tr>\n",
       "    <tr>\n",
       "      <th>432615</th>\n",
       "      <td>5</td>\n",
       "      <td>[6, 20, 29, 43, 46, 9]</td>\n",
       "      <td>108</td>\n",
       "      <td>6</td>\n",
       "    </tr>\n",
       "    <tr>\n",
       "      <th>432616</th>\n",
       "      <td>5</td>\n",
       "      <td>[6, 20, 29, 43, 46, 8]</td>\n",
       "      <td>108</td>\n",
       "      <td>6</td>\n",
       "    </tr>\n",
       "    <tr>\n",
       "      <th>432617</th>\n",
       "      <td>5</td>\n",
       "      <td>[6, 20, 29, 43, 47, 9]</td>\n",
       "      <td>108</td>\n",
       "      <td>6</td>\n",
       "    </tr>\n",
       "    <tr>\n",
       "      <th>432618</th>\n",
       "      <td>5</td>\n",
       "      <td>[6, 20, 29, 43, 47, 8]</td>\n",
       "      <td>108</td>\n",
       "      <td>6</td>\n",
       "    </tr>\n",
       "    <tr>\n",
       "      <th>432621</th>\n",
       "      <td>5</td>\n",
       "      <td>[6, 20, 29, 43, 48, 9]</td>\n",
       "      <td>108</td>\n",
       "      <td>6</td>\n",
       "    </tr>\n",
       "    <tr>\n",
       "      <th>432622</th>\n",
       "      <td>5</td>\n",
       "      <td>[6, 20, 29, 43, 48, 8]</td>\n",
       "      <td>108</td>\n",
       "      <td>6</td>\n",
       "    </tr>\n",
       "    <tr>\n",
       "      <th>432625</th>\n",
       "      <td>5</td>\n",
       "      <td>[6, 20, 29, 43, 49, 9]</td>\n",
       "      <td>108</td>\n",
       "      <td>6</td>\n",
       "    </tr>\n",
       "    <tr>\n",
       "      <th>432626</th>\n",
       "      <td>5</td>\n",
       "      <td>[6, 20, 29, 43, 49, 8]</td>\n",
       "      <td>108</td>\n",
       "      <td>6</td>\n",
       "    </tr>\n",
       "    <tr>\n",
       "      <th>433959</th>\n",
       "      <td>5</td>\n",
       "      <td>[6, 20, 30, 40, 47, 9]</td>\n",
       "      <td>108</td>\n",
       "      <td>6</td>\n",
       "    </tr>\n",
       "    <tr>\n",
       "      <th>433963</th>\n",
       "      <td>5</td>\n",
       "      <td>[6, 20, 30, 40, 48, 9]</td>\n",
       "      <td>108</td>\n",
       "      <td>6</td>\n",
       "    </tr>\n",
       "    <tr>\n",
       "      <th>433967</th>\n",
       "      <td>5</td>\n",
       "      <td>[6, 20, 30, 40, 49, 9]</td>\n",
       "      <td>108</td>\n",
       "      <td>6</td>\n",
       "    </tr>\n",
       "    <tr>\n",
       "      <th>434034</th>\n",
       "      <td>5</td>\n",
       "      <td>[6, 20, 30, 42, 47, 9]</td>\n",
       "      <td>108</td>\n",
       "      <td>6</td>\n",
       "    </tr>\n",
       "    <tr>\n",
       "      <th>434038</th>\n",
       "      <td>5</td>\n",
       "      <td>[6, 20, 30, 42, 48, 9]</td>\n",
       "      <td>108</td>\n",
       "      <td>6</td>\n",
       "    </tr>\n",
       "    <tr>\n",
       "      <th>434042</th>\n",
       "      <td>5</td>\n",
       "      <td>[6, 20, 30, 42, 49, 9]</td>\n",
       "      <td>108</td>\n",
       "      <td>6</td>\n",
       "    </tr>\n",
       "  </tbody>\n",
       "</table>\n",
       "<p>1168 rows × 4 columns</p>\n",
       "</div>"
      ],
      "text/plain": [
       "        Diameter                 Stations  Num_Edges  Num_Stations\n",
       "152181         5  [6, 10, 16, 18, 29, 48]        108             6\n",
       "152182         5  [6, 10, 16, 18, 29, 49]        108             6\n",
       "152184         5  [6, 10, 16, 18, 29, 47]        108             6\n",
       "152428         5  [6, 10, 16, 19, 28, 49]        108             6\n",
       "152446         5  [6, 10, 16, 19, 29, 48]        108             6\n",
       "152447         5  [6, 10, 16, 19, 29, 49]        108             6\n",
       "152449         5  [6, 10, 16, 19, 29, 47]        108             6\n",
       "152480         5  [6, 10, 16, 19, 30, 48]        108             6\n",
       "152481         5  [6, 10, 16, 19, 30, 49]        108             6\n",
       "152483         5  [6, 10, 16, 19, 30, 47]        108             6\n",
       "152757         5  [6, 10, 16, 20, 29, 48]        108             6\n",
       "152758         5  [6, 10, 16, 20, 29, 49]        108             6\n",
       "152760         5  [6, 10, 16, 20, 29, 47]        108             6\n",
       "153027         5  [6, 10, 16, 22, 28, 49]        108             6\n",
       "153045         5  [6, 10, 16, 22, 29, 48]        108             6\n",
       "153046         5  [6, 10, 16, 22, 29, 49]        108             6\n",
       "153048         5  [6, 10, 16, 22, 29, 47]        108             6\n",
       "153079         5  [6, 10, 16, 22, 30, 48]        108             6\n",
       "153080         5  [6, 10, 16, 22, 30, 49]        108             6\n",
       "153082         5  [6, 10, 16, 22, 30, 47]        108             6\n",
       "153268         5  [6, 10, 16, 23, 27, 48]        108             6\n",
       "153269         5  [6, 10, 16, 23, 27, 49]        108             6\n",
       "153271         5  [6, 10, 16, 23, 27, 47]        108             6\n",
       "153285         5  [6, 10, 16, 23, 28, 48]        108             6\n",
       "153286         5  [6, 10, 16, 23, 28, 49]        108             6\n",
       "153288         5  [6, 10, 16, 23, 28, 47]        108             6\n",
       "153302         5  [6, 10, 16, 23, 29, 48]        108             6\n",
       "153303         5  [6, 10, 16, 23, 29, 49]        108             6\n",
       "153305         5  [6, 10, 16, 23, 29, 47]        108             6\n",
       "153333         5  [6, 10, 16, 23, 30, 48]        108             6\n",
       "...          ...                      ...        ...           ...\n",
       "432519         5   [6, 20, 29, 40, 48, 9]        108             6\n",
       "432520         5   [6, 20, 29, 40, 48, 8]        108             6\n",
       "432523         5   [6, 20, 29, 40, 49, 9]        108             6\n",
       "432524         5   [6, 20, 29, 40, 49, 8]        108             6\n",
       "432557         5   [6, 20, 29, 41, 47, 9]        108             6\n",
       "432558         5   [6, 20, 29, 41, 47, 8]        108             6\n",
       "432561         5   [6, 20, 29, 41, 48, 9]        108             6\n",
       "432562         5   [6, 20, 29, 41, 48, 8]        108             6\n",
       "432565         5   [6, 20, 29, 41, 49, 9]        108             6\n",
       "432566         5   [6, 20, 29, 41, 49, 8]        108             6\n",
       "432590         5   [6, 20, 29, 42, 47, 9]        108             6\n",
       "432591         5   [6, 20, 29, 42, 47, 8]        108             6\n",
       "432594         5   [6, 20, 29, 42, 48, 9]        108             6\n",
       "432595         5   [6, 20, 29, 42, 48, 8]        108             6\n",
       "432598         5   [6, 20, 29, 42, 49, 9]        108             6\n",
       "432599         5   [6, 20, 29, 42, 49, 8]        108             6\n",
       "432615         5   [6, 20, 29, 43, 46, 9]        108             6\n",
       "432616         5   [6, 20, 29, 43, 46, 8]        108             6\n",
       "432617         5   [6, 20, 29, 43, 47, 9]        108             6\n",
       "432618         5   [6, 20, 29, 43, 47, 8]        108             6\n",
       "432621         5   [6, 20, 29, 43, 48, 9]        108             6\n",
       "432622         5   [6, 20, 29, 43, 48, 8]        108             6\n",
       "432625         5   [6, 20, 29, 43, 49, 9]        108             6\n",
       "432626         5   [6, 20, 29, 43, 49, 8]        108             6\n",
       "433959         5   [6, 20, 30, 40, 47, 9]        108             6\n",
       "433963         5   [6, 20, 30, 40, 48, 9]        108             6\n",
       "433967         5   [6, 20, 30, 40, 49, 9]        108             6\n",
       "434034         5   [6, 20, 30, 42, 47, 9]        108             6\n",
       "434038         5   [6, 20, 30, 42, 48, 9]        108             6\n",
       "434042         5   [6, 20, 30, 42, 49, 9]        108             6\n",
       "\n",
       "[1168 rows x 4 columns]"
      ]
     },
     "execution_count": 6,
     "metadata": {},
     "output_type": "execute_result"
    }
   ],
   "source": [
    "min_dia = df[df.Diameter==5]\n",
    "min_dia"
   ]
  },
  {
   "cell_type": "code",
   "execution_count": 7,
   "metadata": {
    "collapsed": false
   },
   "outputs": [
    {
     "data": {
      "text/plain": [
       "6"
      ]
     },
     "execution_count": 7,
     "metadata": {},
     "output_type": "execute_result"
    }
   ],
   "source": [
    "min_dia.Num_Stations.min()"
   ]
  },
  {
   "cell_type": "code",
   "execution_count": null,
   "metadata": {
    "collapsed": true
   },
   "outputs": [],
   "source": []
  },
  {
   "cell_type": "code",
   "execution_count": 27,
   "metadata": {
    "collapsed": true
   },
   "outputs": [],
   "source": [
    "import itertools\n",
    "from collections import Counter"
   ]
  },
  {
   "cell_type": "code",
   "execution_count": 29,
   "metadata": {
    "collapsed": false
   },
   "outputs": [],
   "source": [
    "c = Counter(itertools.chain(*min_dia.Stations))"
   ]
  },
  {
   "cell_type": "code",
   "execution_count": 32,
   "metadata": {
    "collapsed": false,
    "scrolled": true
   },
   "outputs": [
    {
     "data": {
      "text/plain": [
       "[(u'Atlanta', 1168),\n",
       " (u'Hong Kong', 572),\n",
       " (u'Cairo', 480),\n",
       " (u'Mexico City', 412),\n",
       " (u'Bogot\\xe1', 354),\n",
       " (u'Lima', 326),\n",
       " (u'Taipei', 292),\n",
       " (u'Lagos', 204),\n",
       " (u'Khartoum', 196),\n",
       " (u'Milan', 195),\n",
       " (u'Essen', 195),\n",
       " (u'Delhi', 193),\n",
       " (u'Algiers', 189),\n",
       " (u'Chennai', 168),\n",
       " (u'Mumbai', 156),\n",
       " (u'Paris', 150),\n",
       " (u'Kinshasa', 148),\n",
       " (u'Shanghai', 148),\n",
       " (u'Johannesburg', 140),\n",
       " (u'St. Petersburg', 128),\n",
       " (u'Tehran', 118),\n",
       " (u'Madrid', 117),\n",
       " (u'London', 111),\n",
       " (u'Jakarta', 110),\n",
       " (u'Karachi', 102),\n",
       " (u'Baghdad', 101),\n",
       " (u'Tokyo', 99),\n",
       " (u'Bangkok', 88),\n",
       " (u'New York', 83),\n",
       " (u'Kolkata', 81),\n",
       " (u'Santiago', 77),\n",
       " (u'Seoul', 57),\n",
       " (u'Riyadh', 46),\n",
       " (u'S\\xe3o Paulo', 2),\n",
       " (u'Buenos Aires', 2)]"
      ]
     },
     "execution_count": 32,
     "metadata": {},
     "output_type": "execute_result"
    }
   ],
   "source": [
    "map(lambda tup: (pandemic.city_num_to_names[tup[0]], tup[1]), c.most_common())"
   ]
  },
  {
   "cell_type": "code",
   "execution_count": 38,
   "metadata": {
    "collapsed": true
   },
   "outputs": [],
   "source": [
    "most_common_in_min_combos_by_num_of_stats = df.groupby('Num_Stations').apply(lambda grp: Counter(itertools.chain(*grp[grp.Diameter==grp.Diameter.min()].Stations)))"
   ]
  },
  {
   "cell_type": "code",
   "execution_count": 39,
   "metadata": {
    "collapsed": false
   },
   "outputs": [
    {
     "data": {
      "text/plain": [
       "Num_Stations\n",
       "2    {u'16': 1, u'42': 1, u'43': 1, u'40': 1, u'41'...\n",
       "3    {u'24': 5, u'25': 4, u'26': 4, u'27': 4, u'20'...\n",
       "4    {u'13': 3, u'30': 4, u'14': 3, u'48': 6, u'49'...\n",
       "5    {u'42': 94, u'22': 79, u'43': 130, u'36': 74, ...\n",
       "6    {u'42': 148, u'43': 204, u'49': 412, u'24': 81...\n",
       "dtype: object"
      ]
     },
     "execution_count": 39,
     "metadata": {},
     "output_type": "execute_result"
    }
   ],
   "source": [
    "most_common_in_min_combos_by_num_of_stats"
   ]
  },
  {
   "cell_type": "code",
   "execution_count": null,
   "metadata": {
    "collapsed": true
   },
   "outputs": [],
   "source": []
  },
  {
   "cell_type": "code",
   "execution_count": 12,
   "metadata": {
    "collapsed": true
   },
   "outputs": [],
   "source": [
    "# Graph Num_Occurrences (as a percentage of combinations) against num of stations."
   ]
  },
  {
   "cell_type": "code",
   "execution_count": null,
   "metadata": {
    "collapsed": true
   },
   "outputs": [],
   "source": [
    "# Cluster cities to see which ones are interchangable."
   ]
  },
  {
   "cell_type": "code",
   "execution_count": null,
   "metadata": {
    "collapsed": true
   },
   "outputs": [],
   "source": []
  },
  {
   "cell_type": "code",
   "execution_count": null,
   "metadata": {
    "collapsed": true
   },
   "outputs": [],
   "source": []
  },
  {
   "cell_type": "code",
   "execution_count": null,
   "metadata": {
    "collapsed": true
   },
   "outputs": [],
   "source": []
  },
  {
   "cell_type": "code",
   "execution_count": null,
   "metadata": {
    "collapsed": true
   },
   "outputs": [],
   "source": []
  },
  {
   "cell_type": "raw",
   "metadata": {
    "collapsed": false
   },
   "source": [
    "# Create list of tuples: (index, station number)\n",
    "tups = []\n",
    "for row in min_dia.Stations.iteritems():\n",
    "    for elt in list(row[1]):\n",
    "        tups.append((row[0], elt))"
   ]
  },
  {
   "cell_type": "raw",
   "metadata": {
    "collapsed": false
   },
   "source": [
    "tups_T = zip(*tups)\n",
    "city_occurrences = (pd.Series(tups_T[1], tups_T[0]).value_counts()\n",
    " .reset_index()\n",
    " .assign(City_Name=lambda df: df['index'].map(pandemic.city_num_to_names))\n",
    " .rename(columns={0:'Num_Occurences', 'index':'City_Number'}))"
   ]
  },
  {
   "cell_type": "raw",
   "metadata": {
    "collapsed": false,
    "scrolled": true
   },
   "source": [
    "city_occurrences"
   ]
  }
 ],
 "metadata": {
  "kernelspec": {
   "display_name": "Python 2",
   "language": "python",
   "name": "python2"
  },
  "language_info": {
   "codemirror_mode": {
    "name": "ipython",
    "version": 2
   },
   "file_extension": ".py",
   "mimetype": "text/x-python",
   "name": "python",
   "nbconvert_exporter": "python",
   "pygments_lexer": "ipython2",
   "version": "2.7.11"
  }
 },
 "nbformat": 4,
 "nbformat_minor": 0
}
