{
 "cells": [
  {
   "cell_type": "markdown",
   "metadata": {},
   "source": [
    "# Conclusions"
   ]
  },
  {
   "cell_type": "markdown",
   "metadata": {},
   "source": [
    "  - Pandemic is awesome!\n",
    "  - Because the board is a graph, efficient board movement can be modeled using a graph library like NetworkX.\n",
    "  - There are many ways to measure \"optimal\" placement: longest shortest path, average shortest path, centrality metrics, etc.\n",
    "  - You can use game context (infected cities) to sort optimal placement combinations.\n",
    "  - Cairo and Hong Kong are extremely important locations for Research Station placement. Don't forget about Lima!\n",
    "  - NetworkX is fast, flexible, and easy to use.\n",
    "  "
   ]
  },
  {
   "cell_type": "markdown",
   "metadata": {},
   "source": [
    "<div style=\"margin:100px\"></div>"
   ]
  },
  {
   "cell_type": "markdown",
   "metadata": {},
   "source": [
    "# References"
   ]
  },
  {
   "cell_type": "markdown",
   "metadata": {},
   "source": [
    "http://www.indicatrix.org/2014/03/26/overanalyzing-board-games-network-analysis-and-pandemic/"
   ]
  },
  {
   "cell_type": "markdown",
   "metadata": {},
   "source": [
    "https://www.joshuasnider.com/update/2016/01/03/pandemonium/"
   ]
  }
 ],
 "metadata": {
  "kernelspec": {
   "display_name": "Python 2",
   "language": "python",
   "name": "python2"
  },
  "language_info": {
   "codemirror_mode": {
    "name": "ipython",
    "version": 2
   },
   "file_extension": ".py",
   "mimetype": "text/x-python",
   "name": "python",
   "nbconvert_exporter": "python",
   "pygments_lexer": "ipython2",
   "version": "2.7.12"
  }
 },
 "nbformat": 4,
 "nbformat_minor": 0
}
