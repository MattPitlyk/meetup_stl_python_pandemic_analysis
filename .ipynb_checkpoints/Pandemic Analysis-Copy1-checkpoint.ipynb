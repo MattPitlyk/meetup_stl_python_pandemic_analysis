{
 "cells": [
  {
   "cell_type": "code",
   "execution_count": null,
   "metadata": {
    "collapsed": false
   },
   "outputs": [],
   "source": [
    "import pandemic\n",
    "import json"
   ]
  },
  {
   "cell_type": "raw",
   "metadata": {},
   "source": [
    "res = pandemic.all_stations_combos(pandemic.g, station_num=3)"
   ]
  },
  {
   "cell_type": "raw",
   "metadata": {},
   "source": [
    "smallest = min(tup[0] for tup in res)\n",
    "shortest_combos = [tup for tup in res if tup[0]==smallest]"
   ]
  },
  {
   "cell_type": "raw",
   "metadata": {},
   "source": [
    "[map(lambda x: pandemic.city_num_to_names[x], tup[1]) for tup in shortest_combos]"
   ]
  },
  {
   "cell_type": "raw",
   "metadata": {},
   "source": [
    "res = pandemic.all_stations_combos(pandemic.g, station_num=2)"
   ]
  },
  {
   "cell_type": "code",
   "execution_count": null,
   "metadata": {
    "collapsed": false
   },
   "outputs": [],
   "source": [
    "output = []\n",
    "\n",
    "for i in xrange(2,7):\n",
    "    res = pandemic.all_stations_combos(pandemic.g, station_num=i)\n",
    "    output.append(res)\n",
    "\n",
    "json.dump(output, open('output.txt', 'wt'), encoding='utf8')"
   ]
  },
  {
   "cell_type": "code",
   "execution_count": 6,
   "metadata": {
    "collapsed": false
   },
   "outputs": [],
   "source": [
    "input_file = json.load(open('output.txt', 'rt'), encoding='utf8')"
   ]
  },
  {
   "cell_type": "code",
   "execution_count": 7,
   "metadata": {
    "collapsed": false
   },
   "outputs": [
    {
     "data": {
      "text/plain": [
       "2"
      ]
     },
     "execution_count": 7,
     "metadata": {},
     "output_type": "execute_result"
    }
   ],
   "source": [
    "len(input_file)"
   ]
  },
  {
   "cell_type": "code",
   "execution_count": null,
   "metadata": {
    "collapsed": true
   },
   "outputs": [],
   "source": []
  },
  {
   "cell_type": "code",
   "execution_count": null,
   "metadata": {
    "collapsed": true
   },
   "outputs": [],
   "source": [
    "def get_neightbors(node):\n",
    "    return set(nx.neighbors(g, node)) + {node}\n",
    "\n",
    "def get_node_combos(n, nodes, get_adj_func, starting_nodes=None):\n",
    "    # Create lists for storing stuff.\n",
    "    cur_vals = [None for _ in xrange(n)]\n",
    "    possible_vals = [[] for _ in xrange(n)]\n",
    "    \n",
    "    # If there are starting nodes, remove them and their neighbors from the set of possible values.\n",
    "    if starting_nodes:\n",
    "        for node in starting_nodes:\n",
    "            nodes = nodes - get_adj_func(node)\n",
    "\n",
    "    # Set initial possible values.\n",
    "    possible_vals[0] = nodes\n",
    "    \n",
    "    def next_level(possible_vals, cur_vals, level):\n",
    "        if level == n-1:\n",
    "            for a in possible_vals[level]:\n",
    "                cur_vals[level] = a\n",
    "                yield cur_vals[:]\n",
    "        else:\n",
    "            for a in sorted(possible_vals[level]):\n",
    "                cur_vals[level] = a\n",
    "                possible_vals[level + 1] = {x for x in possible_vals[level] - get_adj_func(a) if x>a}\n",
    "                for item in next_level(possible_vals, cur_vals, level + 1):\n",
    "                    yield item\n",
    "\n",
    "    for item in next_level(possible_vals, cur_vals, 0):\n",
    "        yield item"
   ]
  },
  {
   "cell_type": "code",
   "execution_count": null,
   "metadata": {
    "collapsed": true
   },
   "outputs": [],
   "source": []
  },
  {
   "cell_type": "code",
   "execution_count": null,
   "metadata": {
    "collapsed": true
   },
   "outputs": [],
   "source": []
  },
  {
   "cell_type": "code",
   "execution_count": null,
   "metadata": {
    "collapsed": true
   },
   "outputs": [],
   "source": []
  }
 ],
 "metadata": {
  "kernelspec": {
   "display_name": "Python 2",
   "language": "python",
   "name": "python2"
  },
  "language_info": {
   "codemirror_mode": {
    "name": "ipython",
    "version": 2
   },
   "file_extension": ".py",
   "mimetype": "text/x-python",
   "name": "python",
   "nbconvert_exporter": "python",
   "pygments_lexer": "ipython2",
   "version": "2.7.11"
  }
 },
 "nbformat": 4,
 "nbformat_minor": 0
}
