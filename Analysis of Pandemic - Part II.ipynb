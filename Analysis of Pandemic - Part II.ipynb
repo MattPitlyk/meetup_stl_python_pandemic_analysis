{
 "cells": [
  {
   "cell_type": "markdown",
   "metadata": {},
   "source": [
    "# Pandemic Analysis - Part II"
   ]
  },
  {
   "cell_type": "markdown",
   "metadata": {},
   "source": [
    "### Incorporating Context for Choosing Best Optimal Placement"
   ]
  },
  {
   "cell_type": "raw",
   "metadata": {},
   "source": [
    "Next, let's take game situations into account. In Part I, each Number of Stations group (2 stations placed, 3 stations placed, etc.) produced multiple optimal research station placements. How can we tell which combo to use during an actual game? These combos do not take any game situation information into account, so let's do that now. We need a way to order the optimal combos within each group given game situation information.  \n",
    "<br>\n",
    "Because of the Epidemic mechanic, you will usually see fewer than half of all the cities during a single game.\n",
    "<br>\n",
    "What we're going to do is use the set of currently infected cities to determine which optimal combo is the best one for the current situation. We can do this by going through each optimal combo, \"placing\" the research stations on the graph, and then calculating the longest shortest path between any of the **infected** cities."
   ]
  },
  {
   "cell_type": "code",
   "execution_count": null,
   "metadata": {
    "collapsed": true
   },
   "outputs": [],
   "source": [
    "import networkx as nx\n",
    "import random\n",
    "import pandas as pd\n",
    "import itertools"
   ]
  },
  {
   "cell_type": "code",
   "execution_count": null,
   "metadata": {
    "collapsed": false
   },
   "outputs": [],
   "source": [
    "pandemic_g_nums = nx.read_graphml('pandemic.graphml.txt')\n",
    "\n",
    "# dicts from city names to numbers, and from numbers to city names.\n",
    "city_names_to_num = {tup[1]['label']:tup[0] for tup in pandemic_g_nums.nodes(data=True)}\n",
    "city_num_to_names = {tup[0]:tup[1]['label'] for tup in pandemic_g_nums.nodes(data=True)}\n",
    "\n",
    "# Relabel nodes to city names.\n",
    "pandemic_g = nx.relabel_nodes(pandemic_g_nums, city_num_to_names)"
   ]
  },
  {
   "cell_type": "code",
   "execution_count": null,
   "metadata": {
    "collapsed": true
   },
   "outputs": [],
   "source": [
    "# Loop through all the json results files, load them into dataframe, rename the columns, \n",
    "# and concat them all together.\n",
    "df = pd.concat([pd.read_json('{}_nodes.json'.format(i)).\n",
    "                rename(columns={0:'Diameter', 1:'Stations', 2:'Num_Edges'})\n",
    "                for i in xrange(1,6)],\n",
    "                ignore_index=True).drop('Num_Edges', axis=1)\n",
    "# Add column for number of stations per combination.\n",
    "df['Num_Stations'] = df.Stations.map(lambda x: len(x))\n",
    "# Add column with names of staitons.\n",
    "df['City_Names'] = df.Stations.map(lambda stations: [city_num_to_names[s] for s in stations])"
   ]
  },
  {
   "cell_type": "markdown",
   "metadata": {},
   "source": [
    "###### Filter for the optimal combos in each Number of Stations group"
   ]
  },
  {
   "cell_type": "code",
   "execution_count": null,
   "metadata": {
    "collapsed": false,
    "scrolled": true
   },
   "outputs": [],
   "source": [
    "min_dia_by_num_of_stations = df.groupby('Num_Stations').apply(lambda grp: grp[grp.Diameter==grp.Diameter.min()])\n",
    "min_dia_by_num_of_stations"
   ]
  },
  {
   "cell_type": "markdown",
   "metadata": {},
   "source": [
    "###### Count number of optimal combos in each group"
   ]
  },
  {
   "cell_type": "code",
   "execution_count": null,
   "metadata": {
    "collapsed": false
   },
   "outputs": [],
   "source": [
    "# Get the number of combos with the minimum diameter by number of stations.\n",
    "min_dia_summary = pd.concat([df.groupby('Num_Stations')['Diameter'].min(),\n",
    "           df.groupby('Num_Stations').apply(lambda grp: len(grp[grp.Diameter==grp.Diameter.min()])), \n",
    "           df.groupby('Num_Stations').size()],\n",
    "         axis=1).rename(columns={'Diameter':'Min diameter', 0:'Combos with min diameter', 1:'Total combos'})\n",
    "min_dia_summary"
   ]
  },
  {
   "cell_type": "markdown",
   "metadata": {},
   "source": [
    "### Function: Caclulate the longest shortest path between infected cities for a given set of research stations"
   ]
  },
  {
   "cell_type": "code",
   "execution_count": null,
   "metadata": {
    "collapsed": true
   },
   "outputs": [],
   "source": [
    "def get_longest_shortest_path(graph, stations, infected_cities):\n",
    "    \"\"\"Add edges between the stations and calculate the longest shortest\n",
    "    path between infected cities.\"\"\"\n",
    "    # Make a copy of the graph because we're going to add edges.\n",
    "    h = graph.copy()\n",
    "    #print(stations)\n",
    "    # Take the list of stations and add edges between them.\n",
    "    for c in itertools.combinations(stations, 2):\n",
    "        if c[0] in h and c[1] in h:\n",
    "            h.add_edge(c[0], c[1])\n",
    "        else:\n",
    "            print('missing nodes ' + c[0] + ' ' + c[1])\n",
    "    # Find the lengths of the shortest paths between each pair of cities\n",
    "    # with research stations.\n",
    "    return max(nx.shortest_path_length(h, c[0], c[1]) for c in itertools.combinations(infected_cities, 2))"
   ]
  },
  {
   "cell_type": "raw",
   "metadata": {
    "collapsed": true
   },
   "source": [
    "import random"
   ]
  },
  {
   "cell_type": "raw",
   "metadata": {
    "collapsed": true
   },
   "source": [
    "# Get a random sample of cities to infect.\n",
    "infected_cities = random.sample(city_names_to_num.keys(), 13)\n",
    "\n",
    "infected_cities"
   ]
  },
  {
   "cell_type": "code",
   "execution_count": null,
   "metadata": {
    "collapsed": false
   },
   "outputs": [],
   "source": [
    "infected_cities = {'Atlanta', 'Washington', 'London', 'Madrid', 'Milan', 'Algiers', \n",
    "                   'Kinshasa', 'Jakarta', 'Shanghai', 'Hong Kong', 'Tokyo', 'Sydney', \n",
    "                   'Santiago'}"
   ]
  },
  {
   "cell_type": "markdown",
   "metadata": {},
   "source": [
    "###### Calculate starting longest shortest path between infected cities"
   ]
  },
  {
   "cell_type": "code",
   "execution_count": null,
   "metadata": {
    "collapsed": false,
    "scrolled": true
   },
   "outputs": [],
   "source": [
    "get_longest_shortest_path(pandemic_g, [], infected_cities)"
   ]
  },
  {
   "cell_type": "markdown",
   "metadata": {},
   "source": [
    "![board](images\\infected_cities.png)"
   ]
  },
  {
   "cell_type": "markdown",
   "metadata": {},
   "source": [
    "![board](images\\infected_cities_min_max_3.png)"
   ]
  },
  {
   "cell_type": "markdown",
   "metadata": {},
   "source": [
    "###### Calculate the longest shortest path length for each optimal combo"
   ]
  },
  {
   "cell_type": "code",
   "execution_count": null,
   "metadata": {
    "collapsed": false,
    "scrolled": true
   },
   "outputs": [],
   "source": [
    "# Calculate longest shortest path lengths\n",
    "results = {}\n",
    "for stations in min_dia_by_num_of_stations.City_Names:\n",
    "    results[tuple(stations)] = get_longest_shortest_path(pandemic_g, stations, infected_cities)\n",
    "\n",
    "# Add as new column\n",
    "min_dia_by_num_of_stations['Max_shortest_for_infected_cities'] = min_dia_by_num_of_stations.City_Names.map(lambda c: results[tuple(c)])\n",
    "\n",
    "# Sort each Num_Stations groupy by Max_shortest_for_infected_cities\n",
    "min_dia_by_num_of_stations.sort_values(by=['Num_Stations', 'Max_shortest_for_infected_cities'])"
   ]
  },
  {
   "cell_type": "markdown",
   "metadata": {},
   "source": [
    "###### Filter for just the optimal combos that reduce the longest shortest path between infected cities the most"
   ]
  },
  {
   "cell_type": "code",
   "execution_count": null,
   "metadata": {
    "collapsed": false,
    "scrolled": true
   },
   "outputs": [],
   "source": [
    "min_max_shortest_for_infected_cities = (min_dia_by_num_of_stations.groupby('Num_Stations').apply(lambda grp: \n",
    "                                                          grp[grp.Max_shortest_for_infected_cities==\n",
    "                                                              grp.Max_shortest_for_infected_cities.min()]))\n",
    "min_max_shortest_for_infected_cities.reset_index(level=[2], drop=True).drop(['Stations', 'Num_Stations'], axis=1)"
   ]
  },
  {
   "cell_type": "markdown",
   "metadata": {},
   "source": [
    "###### Did we reduce the number of optimal combos to choose from?"
   ]
  },
  {
   "cell_type": "code",
   "execution_count": null,
   "metadata": {
    "collapsed": false
   },
   "outputs": [],
   "source": [
    "def highlight_fewer(s):\n",
    "    \"\"\"Helper function to highlight dataframe cells.\"\"\"\n",
    "    if s.name in ['Combos_with_min_longest', 'Combos_with_min_diameter']:\n",
    "        return ['background-color: lime' if b else '' for b in min_longest_summary.Fewer_choices]\n",
    "    else:\n",
    "        return ['' for b in min_longest_summary.Fewer_choices]"
   ]
  },
  {
   "cell_type": "code",
   "execution_count": null,
   "metadata": {
    "collapsed": false,
    "scrolled": true
   },
   "outputs": [],
   "source": [
    "min_longest_summary = (pd.DataFrame(min_max_shortest_for_infected_cities\n",
    "              .groupby(['Num_Stations', 'Diameter', 'Max_shortest_for_infected_cities'])\n",
    "              .size())\n",
    " .rename(columns={0:'Combos_with_min_longest'}).reset_index(['Diameter', 'Max_shortest_for_infected_cities'])\n",
    ".assign(Combos_with_min_diameter=min_dia_summary['Combos with min diameter'])\n",
    ".assign(Fewer_choices=lambda df: df.Combos_with_min_longest<df.Combos_with_min_diameter))\n",
    "# Different order for columns.\n",
    "cols = ['Diameter', 'Combos_with_min_diameter', 'Max_shortest_for_infected_cities', 'Combos_with_min_longest', 'Fewer_choices']\n",
    "# Colors cells where we reduced the number of choices.\n",
    "min_longest_summary[cols].style.apply(highlight_fewer)"
   ]
  },
  {
   "cell_type": "markdown",
   "metadata": {},
   "source": [
    "###### One of the three-city combos that reduces longest shortest path between infected cities to six  \n",
    "Atlanta, San Francisco, Cairo"
   ]
  },
  {
   "cell_type": "code",
   "execution_count": null,
   "metadata": {
    "collapsed": false
   },
   "outputs": [],
   "source": [
    "min_max_shortest_for_infected_cities.loc[3].iloc[0]"
   ]
  },
  {
   "cell_type": "code",
   "execution_count": null,
   "metadata": {
    "collapsed": false,
    "scrolled": true
   },
   "outputs": [],
   "source": [
    "h = pandemic_g.copy()\n",
    "#print(stations)\n",
    "# Take the list of stations and add edges between them.\n",
    "for c in itertools.combinations(['Atlanta', 'San Francisco', 'Cairo'], 2):\n",
    "    if c[0] in h and c[1] in h:\n",
    "        h.add_edge(c[0], c[1])\n",
    "    else:\n",
    "        print('missing nodes ' + c[0] + ' ' + c[1])\n",
    "            \n",
    "[(c[0], c[1], ', '.join(nx.shortest_path(h, c[0], c[1]))) for c in itertools.combinations(infected_cities, 2) \n",
    " if nx.shortest_path_length(h, c[0], c[1])==6]"
   ]
  },
  {
   "cell_type": "markdown",
   "metadata": {},
   "source": [
    "![board](images\\infected_cities_min_max_3_6.png)"
   ]
  },
  {
   "cell_type": "code",
   "execution_count": null,
   "metadata": {
    "collapsed": true
   },
   "outputs": [],
   "source": []
  },
  {
   "cell_type": "code",
   "execution_count": null,
   "metadata": {
    "collapsed": true
   },
   "outputs": [],
   "source": []
  }
 ],
 "metadata": {
  "kernelspec": {
   "display_name": "Python 2",
   "language": "python",
   "name": "python2"
  },
  "language_info": {
   "codemirror_mode": {
    "name": "ipython",
    "version": 2
   },
   "file_extension": ".py",
   "mimetype": "text/x-python",
   "name": "python",
   "nbconvert_exporter": "python",
   "pygments_lexer": "ipython2",
   "version": "2.7.12"
  }
 },
 "nbformat": 4,
 "nbformat_minor": 0
}
