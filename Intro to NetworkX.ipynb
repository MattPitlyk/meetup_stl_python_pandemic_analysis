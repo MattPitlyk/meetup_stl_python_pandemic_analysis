{
 "cells": [
  {
   "cell_type": "markdown",
   "metadata": {},
   "source": [
    "# Intro to NetworkX"
   ]
  },
  {
   "cell_type": "markdown",
   "metadata": {},
   "source": [
    "Why I like NetworkX:  \n",
    "  - Multiple models\n",
    "  - Easy to use\n",
    "  - Extremely flexible\n",
    "  - Lots of built in algorithms (with citations!)\n",
    "  - Integrated graphing"
   ]
  },
  {
   "cell_type": "markdown",
   "metadata": {},
   "source": [
    "# Multiple models"
   ]
  },
  {
   "cell_type": "markdown",
   "metadata": {},
   "source": [
    "The following basic graph types are provided as Python classes:\n",
    "\n",
    "`Graph`  \n",
    "This class implements an undirected graph. It ignores multiple edges between two nodes. It does allow self-loop edges between a node and itself.  \n",
    "  \n",
    "`DiGraph`  \n",
    "Directed graphs, that is, graphs with directed edges. Operations common to directed graphs, (a subclass of Graph).\n",
    "\n",
    "`MultiGraph`  \n",
    "A flexible graph class that allows multiple undirected edges between pairs of nodes. The additional flexibility leads to some degradation in performance, though usually not significant.  \n",
    "  \n",
    "`MultiDiGraph`  \n",
    "A directed version of a MultiGraph."
   ]
  },
  {
   "cell_type": "raw",
   "metadata": {},
   "source": [
    "Notes: The multiple models help you model different situations based on the characteristics of your situtation. If you need to ensure that each pair of nodes has at most one edge between them, you use a Graph or a Digraph. If you need your edges to have a direction associated with them (an edge goes from this node to that node), you can use a DiGraph or a MultiDiGraph."
   ]
  },
  {
   "cell_type": "markdown",
   "metadata": {},
   "source": [
    "\n",
    "|         | Undirected           | Directed  |\n",
    "| ------------- |:-------------:| -----:|\n",
    "| **Single Edge**    | Graph | DiGraph |  \n",
    "| **Multi Edge**      | MultiGraph      |  MultiDiGraph |  \n"
   ]
  },
  {
   "cell_type": "markdown",
   "metadata": {},
   "source": [
    "<div style=\\\"margin-top:200px\\\"/>"
   ]
  },
  {
   "cell_type": "code",
   "execution_count": null,
   "metadata": {
    "collapsed": true
   },
   "outputs": [],
   "source": [
    "import networkx as nx"
   ]
  },
  {
   "cell_type": "markdown",
   "metadata": {},
   "source": [
    "# Easy to use"
   ]
  },
  {
   "cell_type": "markdown",
   "metadata": {},
   "source": [
    "###### Create an empty graph"
   ]
  },
  {
   "cell_type": "code",
   "execution_count": null,
   "metadata": {
    "collapsed": false
   },
   "outputs": [],
   "source": [
    "g = nx.Graph()"
   ]
  },
  {
   "cell_type": "markdown",
   "metadata": {},
   "source": [
    "###### Add some nodes"
   ]
  },
  {
   "cell_type": "code",
   "execution_count": null,
   "metadata": {
    "collapsed": false,
    "scrolled": true
   },
   "outputs": [],
   "source": [
    "g.add_nodes_from(xrange(5))\n",
    "g.nodes()"
   ]
  },
  {
   "cell_type": "code",
   "execution_count": null,
   "metadata": {
    "collapsed": false
   },
   "outputs": [],
   "source": [
    "g.edges()"
   ]
  },
  {
   "cell_type": "markdown",
   "metadata": {},
   "source": [
    "###### Add some edges"
   ]
  },
  {
   "cell_type": "code",
   "execution_count": null,
   "metadata": {
    "collapsed": true
   },
   "outputs": [],
   "source": [
    "g = nx.Graph()  # Start with a blank graph.\n",
    "g.add_edges_from(zip(xrange(10), xrange(1,11)))  # Adding edges automatically adds the nodes."
   ]
  },
  {
   "cell_type": "code",
   "execution_count": null,
   "metadata": {
    "collapsed": false
   },
   "outputs": [],
   "source": [
    "g.edges()"
   ]
  },
  {
   "cell_type": "code",
   "execution_count": null,
   "metadata": {
    "collapsed": false
   },
   "outputs": [],
   "source": [
    "nx.shortest_path(g, 1, 4)"
   ]
  },
  {
   "cell_type": "markdown",
   "metadata": {},
   "source": [
    "###### Most things are stored in dicts"
   ]
  },
  {
   "cell_type": "raw",
   "metadata": {},
   "source": [
    "Notes: How does nx store the data? I think the natural assumption is that it actually builds a bunch of node objects with references either directly to other node objects or to edges objects. This is often a very bad way to implement graphs for two reasons: it's very slow to jump from object to object, and much of graph analysis is working with matrices. Better ways to store graphs is with dicts or matrices. Nx uses dicts."
   ]
  },
  {
   "cell_type": "code",
   "execution_count": null,
   "metadata": {
    "collapsed": false
   },
   "outputs": [],
   "source": [
    "g.adj"
   ]
  },
  {
   "cell_type": "raw",
   "metadata": {},
   "source": [
    "Notes: It actually uses dicts of dicts of dicts, as we can see. The outer dict contains all the nodes. The second level contains all the nodes adjacent to the key node. That next dict are the edge attributes we'll talk about in a bit."
   ]
  },
  {
   "cell_type": "code",
   "execution_count": null,
   "metadata": {
    "collapsed": false
   },
   "outputs": [],
   "source": [
    "# Get nodes adjacent to node 1.\n",
    "g[1]"
   ]
  },
  {
   "cell_type": "markdown",
   "metadata": {},
   "source": [
    "###### But in many cases you should use the methods of the graph class rather than the underlying dicts"
   ]
  },
  {
   "cell_type": "code",
   "execution_count": null,
   "metadata": {
    "collapsed": false
   },
   "outputs": [],
   "source": [
    "g.neighbors(1)"
   ]
  },
  {
   "cell_type": "markdown",
   "metadata": {},
   "source": [
    "###### From the docs:"
   ]
  },
  {
   "cell_type": "markdown",
   "metadata": {},
   "source": [
    ">Fast direct access to the graph data structure is also possible using subscript notation.\n",
    ">\n",
    ">**Warning**  \n",
    ">Do not change the returned dict–it is part of the graph data structure and direct manipulation may leave the graph in an inconsistent state."
   ]
  },
  {
   "cell_type": "markdown",
   "metadata": {},
   "source": [
    "https://networkx.readthedocs.io/en/stable/tutorial/tutorial.html#accessing-edges"
   ]
  },
  {
   "cell_type": "raw",
   "metadata": {},
   "source": [
    "Notes: There are some exceptions where you can modify the data structure directly, but read the docs careful to know when it won't ruin your graph."
   ]
  },
  {
   "cell_type": "markdown",
   "metadata": {},
   "source": [
    "<div style=\"margin:300px\"></div>"
   ]
  },
  {
   "cell_type": "markdown",
   "metadata": {},
   "source": [
    "# Extremely flexible"
   ]
  },
  {
   "cell_type": "markdown",
   "metadata": {},
   "source": [
    "### Nodes"
   ]
  },
  {
   "cell_type": "markdown",
   "metadata": {},
   "source": [
    "From the docs:  \n",
    ">In NetworkX, nodes can be any hashable object e.g. a text string, an image, an XML object, another Graph, a customized node object, etc."
   ]
  },
  {
   "cell_type": "raw",
   "metadata": {},
   "source": [
    "Notes: This makes NetworkX extremely flexible in the way that you model your data. In addition to the flexibility of what nodes can be, attributes (dicts) can be attached to nodes, edges, and even the graph itself (useful when you're using multiple graphs at once)."
   ]
  },
  {
   "cell_type": "markdown",
   "metadata": {},
   "source": [
    "###### Nodes can be strings"
   ]
  },
  {
   "cell_type": "code",
   "execution_count": null,
   "metadata": {
    "collapsed": false
   },
   "outputs": [],
   "source": [
    "g = nx.Graph()\n",
    "g.add_nodes_from('abcd')\n",
    "g.nodes()"
   ]
  },
  {
   "cell_type": "markdown",
   "metadata": {},
   "source": [
    "###### Nodes can be tuples"
   ]
  },
  {
   "cell_type": "code",
   "execution_count": null,
   "metadata": {
    "collapsed": false
   },
   "outputs": [],
   "source": [
    "from numpy.random import choice\n",
    "g = nx.Graph()\n",
    "g.add_nodes_from(zip(xrange(5), 'abcde', choice([True, False], 5)))\n",
    "g.nodes()"
   ]
  },
  {
   "cell_type": "markdown",
   "metadata": {},
   "source": [
    "###### Nodes can be sets"
   ]
  },
  {
   "cell_type": "code",
   "execution_count": null,
   "metadata": {
    "collapsed": false
   },
   "outputs": [],
   "source": [
    "g = nx.Graph()\n",
    "g.add_nodes_from(map(frozenset, zip(xrange(5), 'abcde', choice([True, False], 5))))\n",
    "g.nodes()"
   ]
  },
  {
   "cell_type": "markdown",
   "metadata": {},
   "source": [
    "###### Nodes types can be different"
   ]
  },
  {
   "cell_type": "code",
   "execution_count": null,
   "metadata": {
    "collapsed": false
   },
   "outputs": [],
   "source": [
    "g = nx.Graph()\n",
    "g.add_nodes_from(zip(xrange(5), 'abcde', choice([True, False], 5)))\n",
    "g.add_nodes_from(map(frozenset, zip(xrange(5), 'abcde', choice([True, False], 5))))\n",
    "g.nodes()"
   ]
  },
  {
   "cell_type": "markdown",
   "metadata": {},
   "source": [
    "###### Nodes can be custom objects"
   ]
  },
  {
   "cell_type": "code",
   "execution_count": null,
   "metadata": {
    "collapsed": true
   },
   "outputs": [],
   "source": [
    "class MyNode(object):\n",
    "    def __init__(self, name):\n",
    "        self.name = name\n",
    "    def __repr__(self):\n",
    "        return self.name"
   ]
  },
  {
   "cell_type": "code",
   "execution_count": null,
   "metadata": {
    "collapsed": false
   },
   "outputs": [],
   "source": [
    "a = MyNode('boo')\n",
    "a"
   ]
  },
  {
   "cell_type": "code",
   "execution_count": null,
   "metadata": {
    "collapsed": false
   },
   "outputs": [],
   "source": [
    "# Custom objects are hashable by default in Python\n",
    "hash(a)"
   ]
  },
  {
   "cell_type": "code",
   "execution_count": null,
   "metadata": {
    "collapsed": false
   },
   "outputs": [],
   "source": [
    "b = MyNode('urns')\n",
    "b"
   ]
  },
  {
   "cell_type": "code",
   "execution_count": null,
   "metadata": {
    "collapsed": false,
    "scrolled": false
   },
   "outputs": [],
   "source": [
    "hash(b)"
   ]
  },
  {
   "cell_type": "code",
   "execution_count": null,
   "metadata": {
    "collapsed": false
   },
   "outputs": [],
   "source": [
    "b.name = 'boo-urns'\n",
    "b"
   ]
  },
  {
   "cell_type": "code",
   "execution_count": null,
   "metadata": {
    "collapsed": false
   },
   "outputs": [],
   "source": [
    "# The hash is unchanged even after changing the object.\n",
    "hash(b)"
   ]
  },
  {
   "cell_type": "code",
   "execution_count": null,
   "metadata": {
    "collapsed": false
   },
   "outputs": [],
   "source": [
    "a==b"
   ]
  },
  {
   "cell_type": "code",
   "execution_count": null,
   "metadata": {
    "collapsed": false
   },
   "outputs": [],
   "source": [
    "g = nx.Graph()\n",
    "g.add_nodes_from([a,b])\n",
    "g.adj"
   ]
  },
  {
   "cell_type": "code",
   "execution_count": null,
   "metadata": {
    "collapsed": false
   },
   "outputs": [],
   "source": [
    "g.add_edge(a, b)\n",
    "g.adj"
   ]
  },
  {
   "cell_type": "markdown",
   "metadata": {},
   "source": [
    "###### Directed example"
   ]
  },
  {
   "cell_type": "code",
   "execution_count": null,
   "metadata": {
    "collapsed": false
   },
   "outputs": [],
   "source": [
    "g = nx.DiGraph()\n",
    "g.add_edge(a, b)  # Nodes do not have to be added first.\n",
    "g.adj"
   ]
  },
  {
   "cell_type": "markdown",
   "metadata": {},
   "source": [
    "<div style=\"margin:300px\"></div>"
   ]
  },
  {
   "cell_type": "markdown",
   "metadata": {},
   "source": [
    "### Custom objects as nodes"
   ]
  },
  {
   "cell_type": "raw",
   "metadata": {},
   "source": [
    "Notes: So you could imagine building a custom object for your nodes and storing all kinds of useful information in as properties. "
   ]
  },
  {
   "cell_type": "code",
   "execution_count": null,
   "metadata": {
    "collapsed": true
   },
   "outputs": [],
   "source": [
    "class MyNode2(object):\n",
    "    def __init__(self, name, phone, state):\n",
    "        self.name = name\n",
    "        self.phone = phone\n",
    "        self.state = state\n",
    "        \n",
    "    def __repr__(self):\n",
    "        return self.name"
   ]
  },
  {
   "cell_type": "code",
   "execution_count": null,
   "metadata": {
    "collapsed": false
   },
   "outputs": [],
   "source": [
    "# Create instances of custom objects\n",
    "a = MyNode2('Matt', 1234, 'MO')\n",
    "b = MyNode2('Bob', 1987, 'IL')\n",
    "c = MyNode2('Stan', 4567, 'TN')\n",
    "# Create a new graph and add the nodes and edge.\n",
    "g = nx.Graph()\n",
    "g.add_node(a)   \n",
    "g.add_node(b)\n",
    "g.add_node(c)\n",
    "g.add_edges_from([(a, b), (a, c)])  # Could have skipped the three lines above this since nodes get added automatically."
   ]
  },
  {
   "cell_type": "code",
   "execution_count": null,
   "metadata": {
    "collapsed": false
   },
   "outputs": [],
   "source": [
    "g.adj"
   ]
  },
  {
   "cell_type": "code",
   "execution_count": null,
   "metadata": {
    "collapsed": false,
    "scrolled": true
   },
   "outputs": [],
   "source": [
    "# Get the names and states of all of Matt's neighbors.\n",
    "for n in g.neighbors('Matt'):\n",
    "    print(n.name, n.state)"
   ]
  },
  {
   "cell_type": "code",
   "execution_count": null,
   "metadata": {
    "collapsed": false
   },
   "outputs": [],
   "source": [
    "# Maybe subset notation will work.\n",
    "g['Matt']"
   ]
  },
  {
   "cell_type": "code",
   "execution_count": null,
   "metadata": {
    "collapsed": false
   },
   "outputs": [],
   "source": [
    "# Get the names and states of all of Matt's neighbor's.\n",
    "for n in g.neighbors(a):\n",
    "    print(n.name, n.state)"
   ]
  },
  {
   "cell_type": "markdown",
   "metadata": {},
   "source": [
    "<div style=\"margin:300px\"></div>"
   ]
  },
  {
   "cell_type": "markdown",
   "metadata": {},
   "source": [
    "### Node Attributes"
   ]
  },
  {
   "cell_type": "code",
   "execution_count": null,
   "metadata": {
    "collapsed": false
   },
   "outputs": [],
   "source": [
    "g = nx.Graph()\n",
    "g.add_node('Matt', phone=1234, state='MO')\n",
    "g.add_node('Bob', phone=1987, state='IL')\n",
    "g.add_node('Stan', {'phone':4567, 'state':'TN'})  # Different way to supply attributes - supply as dict\n",
    "g.add_edges_from([('Matt', 'Bob'), ('Matt', 'Stan')])"
   ]
  },
  {
   "cell_type": "code",
   "execution_count": null,
   "metadata": {
    "collapsed": false
   },
   "outputs": [],
   "source": [
    "g.nodes()"
   ]
  },
  {
   "cell_type": "code",
   "execution_count": null,
   "metadata": {
    "collapsed": false
   },
   "outputs": [],
   "source": [
    "g.nodes(data=True)"
   ]
  },
  {
   "cell_type": "code",
   "execution_count": null,
   "metadata": {
    "collapsed": false
   },
   "outputs": [],
   "source": [
    "g.node['Matt']"
   ]
  },
  {
   "cell_type": "code",
   "execution_count": null,
   "metadata": {
    "collapsed": false
   },
   "outputs": [],
   "source": [
    "# Get the names and states of all of Matt's neighbors.\n",
    "for n in g.neighbors('Matt'):\n",
    "    print(n, g.node[n]['state'])"
   ]
  },
  {
   "cell_type": "markdown",
   "metadata": {},
   "source": [
    "###### Get attribute for all nodes"
   ]
  },
  {
   "cell_type": "code",
   "execution_count": null,
   "metadata": {
    "collapsed": false
   },
   "outputs": [],
   "source": [
    "nx.get_node_attributes(g, 'state')"
   ]
  },
  {
   "cell_type": "markdown",
   "metadata": {},
   "source": [
    "### Edge attributes"
   ]
  },
  {
   "cell_type": "raw",
   "metadata": {},
   "source": [
    "Notes: Just like nodes can have attributes, edges can attributes. Now edges can't be a hashable object; you can't add an edge and say you want it to be a number or a string or a custom object. There isn't a 'thing' for it to be. Edges just represent the relationship between two nodes. So edges are keyed by a pair of nodes, and if it's a directed graph that's an ordered pair of nodes. But what that pair of nodes keys to is a dict, so you can store any attributes you want to describe that relationship."
   ]
  },
  {
   "cell_type": "code",
   "execution_count": null,
   "metadata": {
    "collapsed": true
   },
   "outputs": [],
   "source": [
    "g = nx.DiGraph()\n",
    "g.add_edge('Matt', 'Bob', name='Matt to Bob')\n",
    "g.add_edge('Matt', 'Stan', {'name':'Matt to Stan', 'color':'green'})  # Not all nodes/edges have to have the same attributes."
   ]
  },
  {
   "cell_type": "markdown",
   "metadata": {},
   "source": [
    "###### Multiple ways to see edges and edge attributes"
   ]
  },
  {
   "cell_type": "code",
   "execution_count": null,
   "metadata": {
    "collapsed": false
   },
   "outputs": [],
   "source": [
    "g.adj"
   ]
  },
  {
   "cell_type": "code",
   "execution_count": null,
   "metadata": {
    "collapsed": false
   },
   "outputs": [],
   "source": [
    "g.edge"
   ]
  },
  {
   "cell_type": "code",
   "execution_count": null,
   "metadata": {
    "collapsed": false
   },
   "outputs": [],
   "source": [
    "g['Matt']"
   ]
  },
  {
   "cell_type": "code",
   "execution_count": null,
   "metadata": {
    "collapsed": false
   },
   "outputs": [],
   "source": [
    "g['Matt']['Bob']"
   ]
  },
  {
   "cell_type": "code",
   "execution_count": null,
   "metadata": {
    "collapsed": false,
    "scrolled": false
   },
   "outputs": [],
   "source": [
    "g.get_edge_data('Matt', 'Bob')"
   ]
  },
  {
   "cell_type": "code",
   "execution_count": null,
   "metadata": {
    "collapsed": false,
    "scrolled": true
   },
   "outputs": [],
   "source": [
    "g.get_edge_data('Bob', 'Matt') # Returns None because edge does not exist (directed graph)"
   ]
  },
  {
   "cell_type": "markdown",
   "metadata": {},
   "source": [
    "###### List all edges related to a node"
   ]
  },
  {
   "cell_type": "code",
   "execution_count": null,
   "metadata": {
    "collapsed": false,
    "scrolled": true
   },
   "outputs": [],
   "source": [
    "g.edges('Matt')"
   ]
  },
  {
   "cell_type": "markdown",
   "metadata": {},
   "source": [
    "###### Add edge attribute after edge is created"
   ]
  },
  {
   "cell_type": "code",
   "execution_count": null,
   "metadata": {
    "collapsed": false,
    "scrolled": true
   },
   "outputs": [],
   "source": [
    "g.add_edge('Matt', 'Aaron')\n",
    "g.adj"
   ]
  },
  {
   "cell_type": "code",
   "execution_count": null,
   "metadata": {
    "collapsed": false
   },
   "outputs": [],
   "source": [
    "g['Matt']['Aaron']['distance'] = 10\n",
    "g.adj"
   ]
  },
  {
   "cell_type": "markdown",
   "metadata": {},
   "source": [
    "This is one of the few times that modifying the underlying dicts directly is allowed:\n",
    "https://networkx.github.io/documentation/development/reference/generated/networkx.Graph.get_edge_data.html"
   ]
  },
  {
   "cell_type": "markdown",
   "metadata": {},
   "source": [
    "### Instance methods vs NetworkX methods \n",
    ">Most of the NetworkX API is provided by functions which take a graph object as an argument. Methods of the graph object are limited to basic manipulation and reporting. This provides modularity of code and documentation. \n",
    "\n",
    "http://networkx.readthedocs.io/en/stable/reference/introduction.html#networkx-basics"
   ]
  },
  {
   "cell_type": "markdown",
   "metadata": {},
   "source": [
    "<div style=\"margin:300px\"></div>"
   ]
  },
  {
   "cell_type": "markdown",
   "metadata": {},
   "source": [
    "# Lots of built in algorithms (with citations!)"
   ]
  },
  {
   "cell_type": "markdown",
   "metadata": {
    "collapsed": true
   },
   "source": [
    "https://networkx.readthedocs.io/en/stable/reference/algorithms.html"
   ]
  },
  {
   "cell_type": "markdown",
   "metadata": {},
   "source": [
    "# Integrated graphing"
   ]
  },
  {
   "cell_type": "code",
   "execution_count": null,
   "metadata": {
    "collapsed": false
   },
   "outputs": [],
   "source": [
    "pandemic_g = nx.read_graphml('pandemic.graphml.txt')\n",
    "\n",
    "# dicts from city names to numbers, and from numbers to city names.\n",
    "city_names_to_num = {tup[1]['label']:tup[0] for tup in pandemic_g.nodes(data=True)}\n",
    "city_num_to_names = {tup[0]:tup[1]['label'] for tup in pandemic_g.nodes(data=True)}\n",
    "\n",
    "# Relabel nodes to city names.\n",
    "pandemic_g = nx.relabel_nodes(pandemic_g, city_num_to_names)"
   ]
  },
  {
   "cell_type": "code",
   "execution_count": null,
   "metadata": {
    "collapsed": true
   },
   "outputs": [],
   "source": [
    "%matplotlib inline"
   ]
  },
  {
   "cell_type": "code",
   "execution_count": null,
   "metadata": {
    "collapsed": false
   },
   "outputs": [],
   "source": [
    "nx.draw(pandemic_g)"
   ]
  },
  {
   "cell_type": "code",
   "execution_count": null,
   "metadata": {
    "collapsed": false
   },
   "outputs": [],
   "source": [
    "import json\n",
    "from networkx.readwrite import json_graph\n",
    "import flask\n",
    "\n",
    "g = pandemic_g.copy()\n",
    "for n in g:\n",
    "    g.node[n]['name'] = n\n",
    "    g.node[n]['r'] = 10\n",
    "    g.node[n]['x'] = .5 * (1050 + g.node[n]['x'])\n",
    "    g.node[n]['y'] = .6 * (1100 - g.node[n]['y'])\n",
    "    \n",
    "d = json_graph.node_link_data(g) # node-link format to serialize\n",
    "# write json\n",
    "json.dump(d, open('force/force.json','w'))\n",
    "# Serve the file over http to allow for cross origin requests\n",
    "app = flask.Flask('__main__', static_folder=\"force\")\n",
    "@app.route('/<path:path>')\n",
    "def static_proxy(path):\n",
    "  return app.send_static_file(path)\n",
    "print('\\nGo to http://localhost:8000/force.html to see the example\\n')\n",
    "app.run(port=8000)"
   ]
  },
  {
   "cell_type": "markdown",
   "metadata": {},
   "source": [
    "## Docs have great starting tutorial"
   ]
  },
  {
   "cell_type": "markdown",
   "metadata": {},
   "source": [
    "http://networkx.readthedocs.io/en/stable/tutorial/tutorial.html"
   ]
  },
  {
   "cell_type": "markdown",
   "metadata": {},
   "source": [
    "http://networkx.readthedocs.io/en/stable/reference/introduction.html#networkx-basics"
   ]
  },
  {
   "cell_type": "code",
   "execution_count": null,
   "metadata": {
    "collapsed": true
   },
   "outputs": [],
   "source": []
  },
  {
   "cell_type": "markdown",
   "metadata": {},
   "source": [
    "# More examples with the Pandemic graph"
   ]
  },
  {
   "cell_type": "code",
   "execution_count": null,
   "metadata": {
    "collapsed": false
   },
   "outputs": [],
   "source": [
    "pandemic_g = nx.read_graphml('pandemic.graphml.txt')\n",
    "\n",
    "# dicts from city names to numbers, and from numbers to city names.\n",
    "city_names_to_num = {tup[1]['label']:tup[0] for tup in pandemic_g.nodes(data=True)}\n",
    "city_num_to_names = {tup[0]:tup[1]['label'] for tup in pandemic_g.nodes(data=True)}\n",
    "\n",
    "# Relabel nodes to city names.\n",
    "pandemic_g = nx.relabel_nodes(pandemic_g, city_num_to_names)"
   ]
  },
  {
   "cell_type": "markdown",
   "metadata": {},
   "source": [
    "###### Page Rank"
   ]
  },
  {
   "cell_type": "code",
   "execution_count": null,
   "metadata": {
    "collapsed": false,
    "scrolled": true
   },
   "outputs": [],
   "source": [
    "results = nx.pagerank(pandemic_g)  # All the code you need for NetworkX to compute algorithm.\n",
    "sorted([(k, v) for k,v in results.iteritems()], key=lambda tup: tup[1], reverse=True) # Sorting code."
   ]
  },
  {
   "cell_type": "markdown",
   "metadata": {},
   "source": [
    "###### k-clique"
   ]
  },
  {
   "cell_type": "code",
   "execution_count": null,
   "metadata": {
    "collapsed": false,
    "scrolled": true
   },
   "outputs": [],
   "source": [
    "list(nx.find_cliques(pandemic_g))"
   ]
  },
  {
   "cell_type": "markdown",
   "metadata": {},
   "source": [
    "###### Clustering"
   ]
  },
  {
   "cell_type": "code",
   "execution_count": null,
   "metadata": {
    "collapsed": false,
    "scrolled": true
   },
   "outputs": [],
   "source": [
    "results = nx.clustering(pandemic_g)  # All the code you need for NetworkX to compute algorithm.\n",
    "sorted([(k, v) for k,v in results.iteritems()], key=lambda tup: tup[1], reverse=True) # Sorting code."
   ]
  },
  {
   "cell_type": "markdown",
   "metadata": {},
   "source": [
    "###### Shortest Paths"
   ]
  },
  {
   "cell_type": "code",
   "execution_count": null,
   "metadata": {
    "collapsed": false
   },
   "outputs": [],
   "source": [
    "nx.shortest_path(pandemic_g, 'Atlanta', 'Hong Kong')"
   ]
  },
  {
   "cell_type": "code",
   "execution_count": null,
   "metadata": {
    "collapsed": false,
    "scrolled": true
   },
   "outputs": [],
   "source": [
    "nx.shortest_path(pandemic_g, 'Lima', 'Essen')"
   ]
  },
  {
   "cell_type": "markdown",
   "metadata": {},
   "source": [
    "###### All shortest paths"
   ]
  },
  {
   "cell_type": "code",
   "execution_count": null,
   "metadata": {
    "collapsed": false
   },
   "outputs": [],
   "source": [
    "list(nx.all_shortest_paths(pandemic_g, 'Lima', 'Essen'))"
   ]
  },
  {
   "cell_type": "markdown",
   "metadata": {},
   "source": [
    "###### Single source shortest paths"
   ]
  },
  {
   "cell_type": "code",
   "execution_count": null,
   "metadata": {
    "collapsed": false
   },
   "outputs": [],
   "source": [
    "for k,v in nx.single_source_shortest_path(pandemic_g, 'Atlanta').items():\n",
    "    print('Atlanta : ' + k)\n",
    "    print(' -> '.join(v))\n",
    "    print('')"
   ]
  },
  {
   "cell_type": "markdown",
   "metadata": {},
   "source": [
    "###### Average shortest path length (good alternative for graph diameter in analysis)"
   ]
  },
  {
   "cell_type": "code",
   "execution_count": null,
   "metadata": {
    "collapsed": false
   },
   "outputs": [],
   "source": [
    "nx.average_shortest_path_length(pandemic_g)"
   ]
  },
  {
   "cell_type": "code",
   "execution_count": null,
   "metadata": {
    "collapsed": true
   },
   "outputs": [],
   "source": []
  },
  {
   "cell_type": "raw",
   "metadata": {},
   "source": [
    "Notes: Algorithms for Directed Acyclic Graphs (database, schedules, etc.)    \n",
    "Searches (BFS, DFS)"
   ]
  },
  {
   "cell_type": "code",
   "execution_count": null,
   "metadata": {
    "collapsed": true
   },
   "outputs": [],
   "source": []
  },
  {
   "cell_type": "code",
   "execution_count": null,
   "metadata": {
    "collapsed": true
   },
   "outputs": [],
   "source": []
  },
  {
   "cell_type": "code",
   "execution_count": null,
   "metadata": {
    "collapsed": true
   },
   "outputs": [],
   "source": []
  }
 ],
 "metadata": {
  "kernelspec": {
   "display_name": "Python 2",
   "language": "python",
   "name": "python2"
  },
  "language_info": {
   "codemirror_mode": {
    "name": "ipython",
    "version": 2
   },
   "file_extension": ".py",
   "mimetype": "text/x-python",
   "name": "python",
   "nbconvert_exporter": "python",
   "pygments_lexer": "ipython2",
   "version": "2.7.12"
  }
 },
 "nbformat": 4,
 "nbformat_minor": 0
}
