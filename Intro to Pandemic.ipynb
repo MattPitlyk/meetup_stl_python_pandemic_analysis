{
 "cells": [
  {
   "cell_type": "markdown",
   "metadata": {},
   "source": [
    "# INTRO To Pandemic\n",
    "\n",
    "\n",
    "Agenda for tonight: \n",
    "  - Intro to Pandemic\n",
    "  - Analysis of Pandemic, Part I\n",
    "  - Intro to NetworkX\n",
    "  - Analysis of Pandemic, Part II\n"
   ]
  },
  {
   "cell_type": "raw",
   "metadata": {},
   "source": [
    "Notes: Hey everyone, thanks for coming tonight. My name is Matt Pitlyk and I'm a senior data scientist as Care Otter. We make medical patient record software and are developing analytics to help patients and providers understand health data better to improve care and prevent disease. We are currently hiring for many positions including backend devs (C#), front end app devs (iOS, Android, and Windows), web dev, and a new data scientist. If you're interested in finding out more about any of these position, come talk to me after the talk.  \n",
    "So today we're going to talk about Pandemic the board game. How many people had heard of Pandemic before they saw the topic for this talk? How many people have actually played it? How many people have played it a lot? Excellent. Well, even if you still don't know what Pandemic is, that's ok, because I'm going to start out by giving an overview. In fact, here's the agenda for the talk.  "
   ]
  },
  {
   "cell_type": "markdown",
   "metadata": {},
   "source": [
    "# How to Play Pandemic"
   ]
  },
  {
   "cell_type": "markdown",
   "metadata": {},
   "source": [
    "![board](Pandemic_board_game_board.jpg)"
   ]
  },
  {
   "cell_type": "raw",
   "metadata": {},
   "source": [
    "Notes: Pandemic is played on a board consisting of 48 cities and the travel routes between them. Cities are nodes (vertexes) on a graph, and the routes are edges. The goal of the game is to discover cures for four diseases; you can see the colored diseases down here at the bottom. There are two decks involved: a blue player deck and a green infection deck. Players draw into their hand from the blue player deck each turn. Most of the cards match a city and a color. When a player has 5 city cards of the same color, they can turn them in to discover a cure for that color disease. The other deck is the bad deck. On their turn, players also draw from the infection deck. These cards are all city-color cards and determine where the diseases will spread next. When a player draws an infection card, a cube of the matching color is placed on the matching city. Thus, as the game goes on, more disease cubes are placed on the board, and the players have to remove them using player actions. The third part of a player's turn is to take four actions. There are several different types of actions, but they main ones we are concerned with are:  \n",
    "\n",
    "  1) movement  \n",
    "  2) treat disease cubes  \n",
    "  3) place a research station  \n",
    "  4) give/take player cards  \n",
    "  5) cure a disease  "
   ]
  },
  {
   "cell_type": "raw",
   "metadata": {},
   "source": [
    "Notes: A typical turn would go like this. I move my pawn two hops and remove two disease cubes from my current city back to the supply - that's four actions. Now I draw two player cards and hope that I get colors that match the cards already in my hand. Finally, I draw two infection cards and place colored disease cubes on the two cities on those cards. Simple enough, right? Well here's the tricky part. The cities that get infected could be anywhere on the board. And when cities get three cubes on them, they get extra dangerous because they can cause outbreaks which add even more cubes to the board. So, it's important for the players to move around the board to reach any city that is building up cubes. But because both movement and removing cubes cost actions, players need to be as efficient at possible with movement choices so that they can reach as many infected cities as necessary and have actions to remove cubes from those cities. In addition to that, players are allowed to give cards to each other but only if they are both in the city on the card being given. This means players have to move to multiple cities if they want to give multiple cards. These are just more actions that can't then be used for removing cubes and keeping the diseases at bay. So why bother trading cards? Because it is unlikely that any one player will draw 5 cards of the same color in a reasonable amount of turns (there's also the problem of having a 7 card hand limit).  \n",
    "Ok, so movement is important. Quick movement is very important. How do we move quickly? Well, players have the ability to build research stations on cities throughout the board. Then, as an action, a player can move from one RS to another, just as if those two cities had a line between them, regardless of how far apart they are on the board. In the beginning of the game, there's a RS on Atlanta, and that's where all the players start. Then during the game, players might build a research station on Cairo. Now any player can move from Atlanta to Cairo by spending just one action. Or they can go from Cairo to Atlanta with just one action. This game mechanic essentially adds more lines to the board, more edges to the graph, and allows players to move more quickly. Now building RS isn't cheap - it costs a player card, and it isn't always easy to get them where you need them because you can only build a RS in a city by discarding the card with that city on it, but RS's are vital to the game. And RS's is what we're going to be focusing on today."
   ]
  },
  {
   "cell_type": "raw",
   "metadata": {},
   "source": [
    "Notes: Watch videos of two turns.  \n",
    "I love reading instructions for games, but often I find watching a video of someone playing the game is extremely useful for getting a handle on it. Wil Wheaton's Table Top web series is a great source for this (and there's a Pandemic episode!)  \n",
    "\n",
    "Turn 1: remove cube, move, remove cube, move to RS  \n",
    "Turn 2: move once to a RS, move RS to RS, take a card, cure disease  \n",
    "\n",
    "Review videos"
   ]
  },
  {
   "cell_type": "raw",
   "metadata": {},
   "source": [
    "Notes: So that's our overview of Pandemic. Hopefully it wasn't too overwhelming for those that haven't played before. There are a few more rules we're going to talk about later on when they're relevant, but for now just keep in mind that the board it a graph of nodes and edges, efficient movement around the board is important, and RS's add new edges to the board which help with that movement."
   ]
  }
 ],
 "metadata": {
  "kernelspec": {
   "display_name": "Python 2",
   "language": "python",
   "name": "python2"
  },
  "language_info": {
   "codemirror_mode": {
    "name": "ipython",
    "version": 2
   },
   "file_extension": ".py",
   "mimetype": "text/x-python",
   "name": "python",
   "nbconvert_exporter": "python",
   "pygments_lexer": "ipython2",
   "version": "2.7.12"
  }
 },
 "nbformat": 4,
 "nbformat_minor": 0
}
